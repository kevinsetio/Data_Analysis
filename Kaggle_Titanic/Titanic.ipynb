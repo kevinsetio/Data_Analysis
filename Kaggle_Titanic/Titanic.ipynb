{
 "cells": [
  {
   "cell_type": "markdown",
   "id": "580fa892",
   "metadata": {},
   "source": [
    "## Titanic survival\n",
    "\n",
    "Neste notebook iremos analisar os dados do dataset Titanic para criar um modelo preditivo dos sobreviventes a partir de informações sobre os passageiros.  \n",
    "O dataset utilizado pode ser conferido e baixado diretamente do Kaggle:\n",
    "https://www.kaggle.com/c/titanic/"
   ]
  },
  {
   "cell_type": "code",
   "execution_count": 1,
   "id": "1f44c7ce",
   "metadata": {},
   "outputs": [],
   "source": [
    "import numpy as np\n",
    "import pandas as pd\n",
    "import matplotlib.pyplot as plt\n",
    "import seaborn as sns\n",
    "from sklearn.pipeline import Pipeline\n",
    "from sklearn.feature_selection import SelectKBest\n",
    "from sklearn.feature_selection import chi2\n",
    "from sklearn.preprocessing import OneHotEncoder, StandardScaler, PowerTransformer\n",
    "from sklearn.impute import SimpleImputer\n",
    "from sklearn.compose import ColumnTransformer\n",
    "from sklearn.model_selection import train_test_split\n",
    "from sklearn.ensemble import RandomForestClassifier\n",
    "from sklearn import svm\n",
    "from sklearn import metrics\n",
    "from sklearn.model_selection import GridSearchCV\n",
    "import pickle"
   ]
  },
  {
   "cell_type": "code",
   "execution_count": 2,
   "id": "b2ce2de4",
   "metadata": {},
   "outputs": [
    {
     "data": {
      "text/html": [
       "<div>\n",
       "<style scoped>\n",
       "    .dataframe tbody tr th:only-of-type {\n",
       "        vertical-align: middle;\n",
       "    }\n",
       "\n",
       "    .dataframe tbody tr th {\n",
       "        vertical-align: top;\n",
       "    }\n",
       "\n",
       "    .dataframe thead th {\n",
       "        text-align: right;\n",
       "    }\n",
       "</style>\n",
       "<table border=\"1\" class=\"dataframe\">\n",
       "  <thead>\n",
       "    <tr style=\"text-align: right;\">\n",
       "      <th></th>\n",
       "      <th>PassengerId</th>\n",
       "      <th>Survived</th>\n",
       "      <th>Pclass</th>\n",
       "      <th>Name</th>\n",
       "      <th>Sex</th>\n",
       "      <th>Age</th>\n",
       "      <th>SibSp</th>\n",
       "      <th>Parch</th>\n",
       "      <th>Ticket</th>\n",
       "      <th>Fare</th>\n",
       "      <th>Cabin</th>\n",
       "      <th>Embarked</th>\n",
       "    </tr>\n",
       "  </thead>\n",
       "  <tbody>\n",
       "    <tr>\n",
       "      <th>0</th>\n",
       "      <td>1</td>\n",
       "      <td>0</td>\n",
       "      <td>3</td>\n",
       "      <td>Braund, Mr. Owen Harris</td>\n",
       "      <td>male</td>\n",
       "      <td>22.0</td>\n",
       "      <td>1</td>\n",
       "      <td>0</td>\n",
       "      <td>A/5 21171</td>\n",
       "      <td>7.2500</td>\n",
       "      <td>NaN</td>\n",
       "      <td>S</td>\n",
       "    </tr>\n",
       "    <tr>\n",
       "      <th>1</th>\n",
       "      <td>2</td>\n",
       "      <td>1</td>\n",
       "      <td>1</td>\n",
       "      <td>Cumings, Mrs. John Bradley (Florence Briggs Th...</td>\n",
       "      <td>female</td>\n",
       "      <td>38.0</td>\n",
       "      <td>1</td>\n",
       "      <td>0</td>\n",
       "      <td>PC 17599</td>\n",
       "      <td>71.2833</td>\n",
       "      <td>C85</td>\n",
       "      <td>C</td>\n",
       "    </tr>\n",
       "    <tr>\n",
       "      <th>2</th>\n",
       "      <td>3</td>\n",
       "      <td>1</td>\n",
       "      <td>3</td>\n",
       "      <td>Heikkinen, Miss. Laina</td>\n",
       "      <td>female</td>\n",
       "      <td>26.0</td>\n",
       "      <td>0</td>\n",
       "      <td>0</td>\n",
       "      <td>STON/O2. 3101282</td>\n",
       "      <td>7.9250</td>\n",
       "      <td>NaN</td>\n",
       "      <td>S</td>\n",
       "    </tr>\n",
       "    <tr>\n",
       "      <th>3</th>\n",
       "      <td>4</td>\n",
       "      <td>1</td>\n",
       "      <td>1</td>\n",
       "      <td>Futrelle, Mrs. Jacques Heath (Lily May Peel)</td>\n",
       "      <td>female</td>\n",
       "      <td>35.0</td>\n",
       "      <td>1</td>\n",
       "      <td>0</td>\n",
       "      <td>113803</td>\n",
       "      <td>53.1000</td>\n",
       "      <td>C123</td>\n",
       "      <td>S</td>\n",
       "    </tr>\n",
       "    <tr>\n",
       "      <th>4</th>\n",
       "      <td>5</td>\n",
       "      <td>0</td>\n",
       "      <td>3</td>\n",
       "      <td>Allen, Mr. William Henry</td>\n",
       "      <td>male</td>\n",
       "      <td>35.0</td>\n",
       "      <td>0</td>\n",
       "      <td>0</td>\n",
       "      <td>373450</td>\n",
       "      <td>8.0500</td>\n",
       "      <td>NaN</td>\n",
       "      <td>S</td>\n",
       "    </tr>\n",
       "  </tbody>\n",
       "</table>\n",
       "</div>"
      ],
      "text/plain": [
       "   PassengerId  Survived  Pclass  \\\n",
       "0            1         0       3   \n",
       "1            2         1       1   \n",
       "2            3         1       3   \n",
       "3            4         1       1   \n",
       "4            5         0       3   \n",
       "\n",
       "                                                Name     Sex   Age  SibSp  \\\n",
       "0                            Braund, Mr. Owen Harris    male  22.0      1   \n",
       "1  Cumings, Mrs. John Bradley (Florence Briggs Th...  female  38.0      1   \n",
       "2                             Heikkinen, Miss. Laina  female  26.0      0   \n",
       "3       Futrelle, Mrs. Jacques Heath (Lily May Peel)  female  35.0      1   \n",
       "4                           Allen, Mr. William Henry    male  35.0      0   \n",
       "\n",
       "   Parch            Ticket     Fare Cabin Embarked  \n",
       "0      0         A/5 21171   7.2500   NaN        S  \n",
       "1      0          PC 17599  71.2833   C85        C  \n",
       "2      0  STON/O2. 3101282   7.9250   NaN        S  \n",
       "3      0            113803  53.1000  C123        S  \n",
       "4      0            373450   8.0500   NaN        S  "
      ]
     },
     "execution_count": 2,
     "metadata": {},
     "output_type": "execute_result"
    }
   ],
   "source": [
    "df = pd.read_csv('titanic_data.csv', skipinitialspace = True)\n",
    "df.head()"
   ]
  },
  {
   "cell_type": "code",
   "execution_count": 3,
   "id": "0d68aa72",
   "metadata": {},
   "outputs": [
    {
     "name": "stdout",
     "output_type": "stream",
     "text": [
      "<class 'pandas.core.frame.DataFrame'>\n",
      "RangeIndex: 891 entries, 0 to 890\n",
      "Data columns (total 12 columns):\n",
      " #   Column       Non-Null Count  Dtype  \n",
      "---  ------       --------------  -----  \n",
      " 0   PassengerId  891 non-null    int64  \n",
      " 1   Survived     891 non-null    int64  \n",
      " 2   Pclass       891 non-null    int64  \n",
      " 3   Name         891 non-null    object \n",
      " 4   Sex          891 non-null    object \n",
      " 5   Age          714 non-null    float64\n",
      " 6   SibSp        891 non-null    int64  \n",
      " 7   Parch        891 non-null    int64  \n",
      " 8   Ticket       891 non-null    object \n",
      " 9   Fare         891 non-null    float64\n",
      " 10  Cabin        204 non-null    object \n",
      " 11  Embarked     889 non-null    object \n",
      "dtypes: float64(2), int64(5), object(5)\n",
      "memory usage: 83.7+ KB\n"
     ]
    }
   ],
   "source": [
    "df.info()"
   ]
  },
  {
   "cell_type": "code",
   "execution_count": 4,
   "id": "6634a1bf",
   "metadata": {},
   "outputs": [
    {
     "data": {
      "text/html": [
       "<div>\n",
       "<style scoped>\n",
       "    .dataframe tbody tr th:only-of-type {\n",
       "        vertical-align: middle;\n",
       "    }\n",
       "\n",
       "    .dataframe tbody tr th {\n",
       "        vertical-align: top;\n",
       "    }\n",
       "\n",
       "    .dataframe thead th {\n",
       "        text-align: right;\n",
       "    }\n",
       "</style>\n",
       "<table border=\"1\" class=\"dataframe\">\n",
       "  <thead>\n",
       "    <tr style=\"text-align: right;\">\n",
       "      <th></th>\n",
       "      <th>PassengerId</th>\n",
       "      <th>Survived</th>\n",
       "      <th>Pclass</th>\n",
       "      <th>Age</th>\n",
       "      <th>SibSp</th>\n",
       "      <th>Parch</th>\n",
       "      <th>Fare</th>\n",
       "    </tr>\n",
       "  </thead>\n",
       "  <tbody>\n",
       "    <tr>\n",
       "      <th>count</th>\n",
       "      <td>891.000000</td>\n",
       "      <td>891.000000</td>\n",
       "      <td>891.000000</td>\n",
       "      <td>714.000000</td>\n",
       "      <td>891.000000</td>\n",
       "      <td>891.000000</td>\n",
       "      <td>891.000000</td>\n",
       "    </tr>\n",
       "    <tr>\n",
       "      <th>mean</th>\n",
       "      <td>446.000000</td>\n",
       "      <td>0.383838</td>\n",
       "      <td>2.308642</td>\n",
       "      <td>29.699118</td>\n",
       "      <td>0.523008</td>\n",
       "      <td>0.381594</td>\n",
       "      <td>32.204208</td>\n",
       "    </tr>\n",
       "    <tr>\n",
       "      <th>std</th>\n",
       "      <td>257.353842</td>\n",
       "      <td>0.486592</td>\n",
       "      <td>0.836071</td>\n",
       "      <td>14.526497</td>\n",
       "      <td>1.102743</td>\n",
       "      <td>0.806057</td>\n",
       "      <td>49.693429</td>\n",
       "    </tr>\n",
       "    <tr>\n",
       "      <th>min</th>\n",
       "      <td>1.000000</td>\n",
       "      <td>0.000000</td>\n",
       "      <td>1.000000</td>\n",
       "      <td>0.420000</td>\n",
       "      <td>0.000000</td>\n",
       "      <td>0.000000</td>\n",
       "      <td>0.000000</td>\n",
       "    </tr>\n",
       "    <tr>\n",
       "      <th>25%</th>\n",
       "      <td>223.500000</td>\n",
       "      <td>0.000000</td>\n",
       "      <td>2.000000</td>\n",
       "      <td>20.125000</td>\n",
       "      <td>0.000000</td>\n",
       "      <td>0.000000</td>\n",
       "      <td>7.910400</td>\n",
       "    </tr>\n",
       "    <tr>\n",
       "      <th>50%</th>\n",
       "      <td>446.000000</td>\n",
       "      <td>0.000000</td>\n",
       "      <td>3.000000</td>\n",
       "      <td>28.000000</td>\n",
       "      <td>0.000000</td>\n",
       "      <td>0.000000</td>\n",
       "      <td>14.454200</td>\n",
       "    </tr>\n",
       "    <tr>\n",
       "      <th>75%</th>\n",
       "      <td>668.500000</td>\n",
       "      <td>1.000000</td>\n",
       "      <td>3.000000</td>\n",
       "      <td>38.000000</td>\n",
       "      <td>1.000000</td>\n",
       "      <td>0.000000</td>\n",
       "      <td>31.000000</td>\n",
       "    </tr>\n",
       "    <tr>\n",
       "      <th>max</th>\n",
       "      <td>891.000000</td>\n",
       "      <td>1.000000</td>\n",
       "      <td>3.000000</td>\n",
       "      <td>80.000000</td>\n",
       "      <td>8.000000</td>\n",
       "      <td>6.000000</td>\n",
       "      <td>512.329200</td>\n",
       "    </tr>\n",
       "  </tbody>\n",
       "</table>\n",
       "</div>"
      ],
      "text/plain": [
       "       PassengerId    Survived      Pclass         Age       SibSp  \\\n",
       "count   891.000000  891.000000  891.000000  714.000000  891.000000   \n",
       "mean    446.000000    0.383838    2.308642   29.699118    0.523008   \n",
       "std     257.353842    0.486592    0.836071   14.526497    1.102743   \n",
       "min       1.000000    0.000000    1.000000    0.420000    0.000000   \n",
       "25%     223.500000    0.000000    2.000000   20.125000    0.000000   \n",
       "50%     446.000000    0.000000    3.000000   28.000000    0.000000   \n",
       "75%     668.500000    1.000000    3.000000   38.000000    1.000000   \n",
       "max     891.000000    1.000000    3.000000   80.000000    8.000000   \n",
       "\n",
       "            Parch        Fare  \n",
       "count  891.000000  891.000000  \n",
       "mean     0.381594   32.204208  \n",
       "std      0.806057   49.693429  \n",
       "min      0.000000    0.000000  \n",
       "25%      0.000000    7.910400  \n",
       "50%      0.000000   14.454200  \n",
       "75%      0.000000   31.000000  \n",
       "max      6.000000  512.329200  "
      ]
     },
     "execution_count": 4,
     "metadata": {},
     "output_type": "execute_result"
    }
   ],
   "source": [
    "df.describe()"
   ]
  },
  {
   "cell_type": "code",
   "execution_count": 5,
   "id": "3aab4e56",
   "metadata": {},
   "outputs": [],
   "source": [
    "# Definindo as variáveis de input e a variável target\n",
    "X = df.drop(['PassengerId', 'Name', 'Survived', 'Ticket', 'Cabin'], axis = 1)\n",
    "Y = df[['Survived']]"
   ]
  },
  {
   "cell_type": "code",
   "execution_count": 6,
   "id": "874f13a1",
   "metadata": {},
   "outputs": [
    {
     "data": {
      "image/png": "[encoded data removed]",
      "text/plain": [
       "<Figure size 1200x800 with 4 Axes>"
      ]
     },
     "metadata": {},
     "output_type": "display_data"
    }
   ],
   "source": [
    "# Visualizando a distribuição dos dados\n",
    "sns.set_style(\"whitegrid\")\n",
    "fig, axes = plt.subplots(2, 2, figsize = (12, 8))\n",
    "sns.histplot(data = X['Age'], kde = True, ax = axes[0, 0])\n",
    "sns.histplot(data = X['SibSp'], kde = True, ax = axes[0, 1])\n",
    "sns.histplot(data = X['Parch'], kde = True, ax = axes[1, 0])\n",
    "sns.histplot(data = X['Fare'], kde = True, ax = axes[1, 1])\n",
    "plt.show()"
   ]
  },
  {
   "cell_type": "code",
   "execution_count": 7,
   "id": "e108723a",
   "metadata": {},
   "outputs": [],
   "source": [
    "# Realizando o split\n",
    "X_train, X_test, Y_train, Y_test = train_test_split(X, Y, test_size = 0.30, random_state = 25)"
   ]
  },
  {
   "cell_type": "code",
   "execution_count": 8,
   "id": "a1a484ef",
   "metadata": {},
   "outputs": [
    {
     "name": "stdout",
     "output_type": "stream",
     "text": [
      "Original True : 342 (38.38%)\n",
      "Original False : 549 (61.62%)\n",
      "\n",
      "Training True : 239 (38.36%)\n",
      "Training False : 384 (61.64%)\n",
      "\n",
      "Test True : 103 (38.43%)\n",
      "Test False : 165 (61.57%)\n"
     ]
    }
   ],
   "source": [
    "# Verificando como as variáveis de teste e treino ficaram distribuídas\n",
    "print(\"Original True : {0} ({1:0.2f}%)\".format(len(df.loc[df['Survived'] == 1]), \n",
    "                                               (len(df.loc[df['Survived'] == 1])/len(df.index) * 100)))\n",
    "\n",
    "print(\"Original False : {0} ({1:0.2f}%)\".format(len(df.loc[df['Survived'] == 0]), \n",
    "                                               (len(df.loc[df['Survived'] == 0])/len(df.index) * 100)))\n",
    "print(\"\")\n",
    "print(\"Training True : {0} ({1:0.2f}%)\".format(len(Y_train[Y_train['Survived'] == 1]), \n",
    "                                               (len(Y_train[Y_train['Survived'] == 1])/len(Y_train) * 100)))\n",
    "\n",
    "print(\"Training False : {0} ({1:0.2f}%)\".format(len(Y_train[Y_train['Survived'] == 0]), \n",
    "                                               (len(Y_train[Y_train['Survived'] == 0])/len(Y_train) * 100)))\n",
    "print(\"\")\n",
    "print(\"Test True : {0} ({1:0.2f}%)\".format(len(Y_test[Y_test['Survived'] == 1]), \n",
    "                                               (len(Y_test[Y_test['Survived'] == 1])/len(Y_test) * 100)))\n",
    "\n",
    "print(\"Test False : {0} ({1:0.2f}%)\".format(len(Y_test[Y_test['Survived'] == 0]), \n",
    "                                               (len(Y_test[Y_test['Survived'] == 0])/len(Y_test) * 100)))"
   ]
  },
  {
   "cell_type": "code",
   "execution_count": 9,
   "id": "37bcb82d",
   "metadata": {},
   "outputs": [],
   "source": [
    "# Pipeline para tratar dados NaN e normalização\n",
    "num_transformer = Pipeline(steps = [\n",
    "    ('imputer', SimpleImputer(strategy = 'median')), # Como podemos observar, as distribuições não são gaussianas, logo, aplicamos a mediana\n",
    "#     ('scaler', StandardScaler())\n",
    "    ('scaler', PowerTransformer()) # Algoritmos baseados em árvore de decisão não precisam de transformação de dados, mas aplicamos aqui para tsetar o SVM\n",
    "])\n",
    "\n",
    "# Pipeline para transformação de dados categóricos\n",
    "cat_transformer = Pipeline(steps = [\n",
    "    ('one-hot-encoder', OneHotEncoder())\n",
    "])\n",
    "\n",
    "# Compondo o pré-processamento dos dados\n",
    "def preprocessor(numCol, catCol):\n",
    "    preprocessing = ColumnTransformer(transformers = [\n",
    "        ('num', num_transformer, numCol),\n",
    "        ('cat', cat_transformer, catCol)\n",
    "    ])\n",
    "    return preprocessing"
   ]
  },
  {
   "cell_type": "code",
   "execution_count": 10,
   "id": "745b6876",
   "metadata": {},
   "outputs": [],
   "source": [
    "# Criando o modelo\n",
    "preprocessing = preprocessor(['Age', 'SibSp', 'Parch', 'Fare'], ['Pclass', 'Sex', 'Embarked'])\n",
    "\n",
    "model = Pipeline(steps = [\n",
    "    ('preprocessing', preprocessing),\n",
    "    ('randomforest', RandomForestClassifier(max_depth = 4, random_state = 42))\n",
    "])"
   ]
  },
  {
   "cell_type": "code",
   "execution_count": 11,
   "id": "03e5efae",
   "metadata": {},
   "outputs": [],
   "source": [
    "# Treinando o modelo\n",
    "model.fit(X_train, Y_train.values.ravel())\n",
    "train_score = model.score(X_train, Y_train.values.ravel())"
   ]
  },
  {
   "cell_type": "code",
   "execution_count": 12,
   "id": "e3047c96",
   "metadata": {},
   "outputs": [],
   "source": [
    "# Testando o modelo\n",
    "test_score = model.score(X_test, Y_test.values.ravel())\n",
    "predict_test = model.predict(X_test)"
   ]
  },
  {
   "cell_type": "code",
   "execution_count": 13,
   "id": "dcaa0de2",
   "metadata": {},
   "outputs": [
    {
     "name": "stdout",
     "output_type": "stream",
     "text": [
      "Exatidão (Accuracy): 0.7985\n"
     ]
    }
   ],
   "source": [
    "# Verificando o score\n",
    "print(\"Exatidão (Accuracy): {0:.4f}\".format(metrics.accuracy_score(Y_test, predict_test)))"
   ]
  },
  {
   "cell_type": "code",
   "execution_count": 14,
   "id": "cca37152",
   "metadata": {},
   "outputs": [],
   "source": [
    "def saveSubmission(df_test, ml_model, X_ftest):\n",
    "    submission = pd.DataFrame()\n",
    "    submission['PassengerId'] = df_test['PassengerId']\n",
    "    submission['Survived'] = ml_model.predict(X_ftest)\n",
    "    \n",
    "    submission.to_csv('submission.csv', index = False)\n",
    "    return submission"
   ]
  },
  {
   "cell_type": "code",
   "execution_count": 15,
   "id": "7ec26883",
   "metadata": {},
   "outputs": [],
   "source": [
    "test_file = 'test.csv'\n",
    "df_test = pd.read_csv(test_file)"
   ]
  },
  {
   "cell_type": "code",
   "execution_count": 16,
   "id": "53c79484",
   "metadata": {},
   "outputs": [],
   "source": [
    "# Fazendo predição com o modelo criado e salvando os resultados\n",
    "X_rftest = df_test.drop(['PassengerId', 'Name', 'Ticket', 'Cabin'], axis = 1)\n",
    "submission_rf = saveSubmission(df_test, model, X_rftest)"
   ]
  },
  {
   "attachments": {
    "Rf1.PNG": {
     "image/png": "[encoded data removed]"
    }
   },
   "cell_type": "markdown",
   "id": "a8d3e034",
   "metadata": {},
   "source": [
    "Utilizando o dataset de teste e enviando o resultado ao Kaggle, podemos ver que a acurária do modelo inicial é de 0.77511\n",
    "![Rf1.PNG](attachment:Rf1.PNG)"
   ]
  },
  {
   "cell_type": "code",
   "execution_count": 17,
   "id": "aeb70d95",
   "metadata": {},
   "outputs": [
    {
     "data": {
      "text/plain": [
       "{'randomforest__criterion': 'gini',\n",
       " 'randomforest__max_depth': 7,\n",
       " 'randomforest__max_features': 'auto',\n",
       " 'randomforest__n_estimators': 200}"
      ]
     },
     "execution_count": 17,
     "metadata": {},
     "output_type": "execute_result"
    }
   ],
   "source": [
    "# Realizando o tuning dos parâmetros\n",
    "params = {'randomforest__n_estimators': [50, 100, 150, 200],\n",
    "          'randomforest__criterion': ['gini', 'entropy'],\n",
    "          'randomforest__max_depth': [3, 4, 5, 6, 7],\n",
    "          'randomforest__max_features': ['auto', 'log2']}\n",
    "\n",
    "gs_frc1 = GridSearchCV(model,\n",
    "                     param_grid = params,\n",
    "                     scoring = 'accuracy',\n",
    "                     cv = 5)\n",
    "\n",
    "gs_frc1.fit(X, Y.values.ravel())\n",
    "gs_frc1.best_params_"
   ]
  },
  {
   "cell_type": "code",
   "execution_count": 18,
   "id": "d4e154ba",
   "metadata": {},
   "outputs": [],
   "source": [
    "# Fazendo predição com o modelo após o tuning dos parâmmetros e salvando os resultados\n",
    "Xtune_rftest = df_test.drop(['PassengerId', 'Name', 'Ticket', 'Cabin'], axis = 1)\n",
    "submission_rf = saveSubmission(df_test, gs_frc1, Xtune_rftest)"
   ]
  },
  {
   "cell_type": "code",
   "execution_count": 19,
   "id": "ba11fbb1",
   "metadata": {},
   "outputs": [],
   "source": [
    "# Testando o modelo com o SVM\n",
    "model_svc = Pipeline(steps = [\n",
    "    ('preprocessing', preprocessing),\n",
    "    ('svm', svm.SVC())\n",
    "])"
   ]
  },
  {
   "cell_type": "code",
   "execution_count": 20,
   "id": "73ccca7f",
   "metadata": {},
   "outputs": [],
   "source": [
    "# Treinando o modelo\n",
    "model_svc.fit(X_train, Y_train.values.ravel())\n",
    "train_score_svc = model_svc.score(X_train, Y_train.values.ravel())"
   ]
  },
  {
   "cell_type": "code",
   "execution_count": 21,
   "id": "c2bdb552",
   "metadata": {},
   "outputs": [],
   "source": [
    "# Testando o modelo\n",
    "test_score_svc = model_svc.score(X_test, Y_test.values.ravel())\n",
    "predict_test_svc = model_svc.predict(X_test)"
   ]
  },
  {
   "cell_type": "code",
   "execution_count": 22,
   "id": "3496bdc7",
   "metadata": {},
   "outputs": [
    {
     "name": "stdout",
     "output_type": "stream",
     "text": [
      "Exatidão (Accuracy): 0.7985\n"
     ]
    }
   ],
   "source": [
    "# Verificando o score\n",
    "print(\"Exatidão (Accuracy): {0:.4f}\".format(metrics.accuracy_score(Y_test, predict_test_svc)))"
   ]
  },
  {
   "cell_type": "code",
   "execution_count": 23,
   "id": "9ac1980a",
   "metadata": {},
   "outputs": [],
   "source": [
    "# Fazendo predição com o modelo criado e salvando os resultados\n",
    "X_svctest = df_test.drop(['PassengerId', 'Name', 'Ticket', 'Cabin'], axis = 1)\n",
    "submission_svc = saveSubmission(df_test, model_svc, X_svctest)"
   ]
  },
  {
   "attachments": {},
   "cell_type": "markdown",
   "id": "a0ab137b",
   "metadata": {},
   "source": [
    "Fazendo o tuning dos parâmetros e enviando novamente o resultado ao Kaggle, podemos ver que agora o modelo apresentou um melhor desempenho em relação ao modelo inicial\n",
    "![Random_forest_grid](Rf1_grid.PNG)"
   ]
  },
  {
   "cell_type": "code",
   "execution_count": 24,
   "id": "392a9f34",
   "metadata": {},
   "outputs": [
    {
     "name": "stdout",
     "output_type": "stream",
     "text": [
      "<class 'pandas.core.frame.DataFrame'>\n",
      "RangeIndex: 891 entries, 0 to 890\n",
      "Data columns (total 8 columns):\n",
      " #   Column    Non-Null Count  Dtype  \n",
      "---  ------    --------------  -----  \n",
      " 0   Survived  891 non-null    int64  \n",
      " 1   Pclass    891 non-null    int64  \n",
      " 2   Sex       891 non-null    int64  \n",
      " 3   Age       714 non-null    float64\n",
      " 4   SibSp     891 non-null    int64  \n",
      " 5   Parch     891 non-null    int64  \n",
      " 6   Fare      891 non-null    float64\n",
      " 7   Embarked  889 non-null    float64\n",
      "dtypes: float64(3), int64(5)\n",
      "memory usage: 55.8 KB\n"
     ]
    }
   ],
   "source": [
    "# Preparando os dados para aplicar o teste chi2 a fim verificar as features mais relevantes para o modelo\n",
    "sex_map = {'male': 0, 'female': 1}\n",
    "embarked_map = {'C': 0, 'S': 1, 'Q': 2}\n",
    "\n",
    "X_est = df.copy()\n",
    "X_est['Sex'] = X_est['Sex'].map(sex_map)\n",
    "X_est['Embarked'] = X_est['Embarked'].map(embarked_map)\n",
    "X_est = X_est.drop(['PassengerId', 'Name', 'Ticket', 'Cabin'], axis = 1)\n",
    "X_est.info()"
   ]
  },
  {
   "cell_type": "code",
   "execution_count": 25,
   "id": "d89061c9",
   "metadata": {},
   "outputs": [
    {
     "name": "stdout",
     "output_type": "stream",
     "text": [
      "<class 'pandas.core.frame.DataFrame'>\n",
      "Int64Index: 712 entries, 0 to 890\n",
      "Data columns (total 7 columns):\n",
      " #   Column    Non-Null Count  Dtype  \n",
      "---  ------    --------------  -----  \n",
      " 0   Pclass    712 non-null    int64  \n",
      " 1   Sex       712 non-null    int64  \n",
      " 2   Age       712 non-null    float64\n",
      " 3   SibSp     712 non-null    int64  \n",
      " 4   Parch     712 non-null    int64  \n",
      " 5   Fare      712 non-null    float64\n",
      " 6   Embarked  712 non-null    float64\n",
      "dtypes: float64(3), int64(4)\n",
      "memory usage: 44.5 KB\n"
     ]
    }
   ],
   "source": [
    "# Retirando as linhas com valores NaN para aplicarmos o método de análise estatística\n",
    "X_est = X_est.dropna()\n",
    "Y_est = X_est['Survived']\n",
    "X_est = X_est.drop(['Survived'], axis = 1)\n",
    "X_est.info()"
   ]
  },
  {
   "cell_type": "code",
   "execution_count": 26,
   "id": "e093458b",
   "metadata": {},
   "outputs": [
    {
     "data": {
      "text/plain": [
       "0      0\n",
       "1      1\n",
       "2      1\n",
       "3      1\n",
       "4      0\n",
       "      ..\n",
       "707    0\n",
       "708    0\n",
       "709    1\n",
       "710    1\n",
       "711    0\n",
       "Name: Survived, Length: 712, dtype: int64"
      ]
     },
     "execution_count": 26,
     "metadata": {},
     "output_type": "execute_result"
    }
   ],
   "source": [
    "Y_est = Y_est.reset_index(drop = True)\n",
    "Y_est"
   ]
  },
  {
   "cell_type": "code",
   "execution_count": 27,
   "id": "3dd08ff1",
   "metadata": {},
   "outputs": [
    {
     "name": "stdout",
     "output_type": "stream",
     "text": [
      "[2.82432132e+01 1.30515207e+02 3.42460978e+01 2.88690988e-01\n",
      " 1.08834998e+01 4.08167942e+03 6.02004416e+00]\n"
     ]
    }
   ],
   "source": [
    "# Aplicando teste chi2 para verificar as melhores features para o modelo\n",
    "sel_feat = SelectKBest(score_func = chi2, k = 4).fit(X_est, Y_est)\n",
    "print(sel_feat.scores_)\n",
    "sel_bool = sel_feat.get_support()\n",
    "# print(sel_bool)\n",
    "# features = fit.transform(X_est)\n",
    "# print(features[0:5,:])"
   ]
  },
  {
   "cell_type": "code",
   "execution_count": 28,
   "id": "7ad97b5a",
   "metadata": {},
   "outputs": [],
   "source": [
    "# Criando as novas variáveis de treino e teste\n",
    "X_train2 = X_train[X_train.columns[sel_bool]]\n",
    "X_test2 = X_test[X_test.columns[sel_bool]]"
   ]
  },
  {
   "cell_type": "code",
   "execution_count": 29,
   "id": "5d48b5e4",
   "metadata": {},
   "outputs": [],
   "source": [
    "preprocessing2 = preprocessor(['Age', 'Fare'], ['Pclass', 'Sex'])\n",
    "\n",
    "model2 = Pipeline(steps = [\n",
    "    ('preprocessing', preprocessing2),\n",
    "    ('randomforest', RandomForestClassifier(max_depth = 4, random_state = 42))\n",
    "])"
   ]
  },
  {
   "cell_type": "code",
   "execution_count": 30,
   "id": "f0ca12a8",
   "metadata": {},
   "outputs": [],
   "source": [
    "# Treinando o modelo\n",
    "model2.fit(X_train2, Y_train.values.ravel())\n",
    "train_score2 = model2.score(X_train2, Y_train.values.ravel())"
   ]
  },
  {
   "cell_type": "code",
   "execution_count": 31,
   "id": "1cd4cd35",
   "metadata": {},
   "outputs": [],
   "source": [
    "# Testando o modelo\n",
    "test_score2 = model2.score(X_test2, Y_test.values.ravel())\n",
    "predict_test2 = model2.predict(X_test2)"
   ]
  },
  {
   "cell_type": "code",
   "execution_count": 32,
   "id": "0b1b7277",
   "metadata": {},
   "outputs": [
    {
     "name": "stdout",
     "output_type": "stream",
     "text": [
      "Exatidão (Accuracy): 0.8060\n"
     ]
    }
   ],
   "source": [
    "# Exibindo o score do novo modelo\n",
    "print(f\"Exatidão (Accuracy): {test_score2:0.4f}\")"
   ]
  },
  {
   "cell_type": "markdown",
   "id": "1e3fdab4",
   "metadata": {},
   "source": [
    "Utilizando o modelo original, mas dessa vez realizando a 'feature selection', podemos ver que o resultado não sofreu alterações em relação ao modelo inicial\n",
    "![Random_Forest_feature_selection](Rf_feat.PNG)"
   ]
  },
  {
   "cell_type": "code",
   "execution_count": 33,
   "id": "98e06320",
   "metadata": {},
   "outputs": [],
   "source": [
    "# Fazendo predição com o novo modelo criado e salvando os resultados\n",
    "Xfeat_rftest = df_test[['Pclass', 'Sex', 'Age', 'Fare']]\n",
    "submission_rf2 = saveSubmission(df_test, model2, Xfeat_rftest)"
   ]
  },
  {
   "cell_type": "code",
   "execution_count": 34,
   "id": "a2c4e36f",
   "metadata": {},
   "outputs": [
    {
     "data": {
      "text/plain": [
       "{'randomforest__criterion': 'gini',\n",
       " 'randomforest__max_depth': 7,\n",
       " 'randomforest__max_features': 'auto',\n",
       " 'randomforest__n_estimators': 150}"
      ]
     },
     "execution_count": 34,
     "metadata": {},
     "output_type": "execute_result"
    }
   ],
   "source": [
    "# Realizando o tuning dos parâmetros\n",
    "params = {'randomforest__n_estimators': [50, 100, 150, 200],\n",
    "          'randomforest__criterion': ['gini', 'entropy'],\n",
    "          'randomforest__max_depth': [3, 4, 5, 6, 7],\n",
    "          'randomforest__max_features': ['auto', 'log2']}\n",
    "\n",
    "gs_frc2 = GridSearchCV(model2,\n",
    "                     param_grid = params,\n",
    "                     scoring = 'accuracy',\n",
    "                     cv = 5)\n",
    "\n",
    "X_feat = X[X.columns[sel_bool]]\n",
    "Y_feat = Y['Survived']\n",
    "\n",
    "gs_frc2.fit(X_feat, Y_feat)\n",
    "gs_frc2.best_params_"
   ]
  },
  {
   "cell_type": "code",
   "execution_count": 35,
   "id": "2f5ca86b",
   "metadata": {},
   "outputs": [
    {
     "data": {
      "text/plain": [
       "0.8956228956228957"
      ]
     },
     "execution_count": 35,
     "metadata": {},
     "output_type": "execute_result"
    }
   ],
   "source": [
    "gs_frc2.score(X_feat, Y_feat)"
   ]
  },
  {
   "cell_type": "code",
   "execution_count": 36,
   "id": "de89be51",
   "metadata": {},
   "outputs": [],
   "source": [
    "# Fazendo predição com o modelo após o tuning dos parâmmetros e salvando os resultados\n",
    "Xtune_rftest2 = df_test[['Pclass', 'Sex', 'Age', 'Fare']]\n",
    "submission_rf2 = saveSubmission(df_test, gs_frc2, Xtune_rftest2)"
   ]
  },
  {
   "cell_type": "markdown",
   "id": "cebacd1f",
   "metadata": {},
   "source": [
    "Fazendo o tuning dos parâmetros do modelo com 'feature selection' e enviando novamente o resultado ao Kaggle, podemos ver que agora o modelo piorou o desempenho em relação aos modelos anteriores. \n",
    "Desta forma, pode-se concluir que realizar o tuning dos parâmetros causou um overfitting do modelo\n",
    "![Random_forest_feature_grid](Rf_feat_grid.PNG)"
   ]
  },
  {
   "cell_type": "code",
   "execution_count": 37,
   "id": "0c03b9aa",
   "metadata": {},
   "outputs": [],
   "source": [
    "model_svc2 = Pipeline(steps = [\n",
    "    ('preprocessing', preprocessing2),\n",
    "    ('svm', svm.SVC())\n",
    "])"
   ]
  },
  {
   "cell_type": "code",
   "execution_count": 38,
   "id": "5340a4ca",
   "metadata": {},
   "outputs": [],
   "source": [
    "# Treinando o modelo\n",
    "model_svc2.fit(X_train2, Y_train.values.ravel())\n",
    "train_score_svc2 = model_svc2.score(X_train2, Y_train.values.ravel())"
   ]
  },
  {
   "cell_type": "code",
   "execution_count": 39,
   "id": "75d76e4e",
   "metadata": {},
   "outputs": [],
   "source": [
    "# Testando o modelo\n",
    "test_score_svc2 = model_svc2.score(X_test2, Y_test.values.ravel())\n",
    "predict_test_svc2 = model_svc2.predict(X_test2)"
   ]
  },
  {
   "cell_type": "code",
   "execution_count": 40,
   "id": "f49aa5a8",
   "metadata": {},
   "outputs": [
    {
     "name": "stdout",
     "output_type": "stream",
     "text": [
      "Exatidão (Accuracy): 0.8060\n"
     ]
    }
   ],
   "source": [
    "# Exibindo o score do novo modelo\n",
    "print(f\"Exatidão (Accuracy): {test_score_svc2:0.4f}\")"
   ]
  },
  {
   "cell_type": "code",
   "execution_count": 41,
   "id": "477acf5d",
   "metadata": {},
   "outputs": [],
   "source": [
    "# Fazendo predição com o novo modelo criado e salvando os resultados\n",
    "Xfeat_svctest = df_test[['Pclass', 'Sex', 'Age', 'Fare']]\n",
    "submission_svc2 = saveSubmission(df_test, model_svc2, Xfeat_svctest)"
   ]
  },
  {
   "cell_type": "code",
   "execution_count": 42,
   "id": "c40fa0b2",
   "metadata": {},
   "outputs": [],
   "source": [
    "# filename = 'model_titanic.sav'\n",
    "# pickle.dump(gs_frc.best_estimator, open(filename, 'wb'))"
   ]
  }
 ],
 "metadata": {
  "kernelspec": {
   "display_name": "Python 3",
   "language": "python",
   "name": "python3"
  },
  "language_info": {
   "codemirror_mode": {
    "name": "ipython",
    "version": 3
   },
   "file_extension": ".py",
   "mimetype": "text/x-python",
   "name": "python",
   "nbconvert_exporter": "python",
   "pygments_lexer": "ipython3",
   "version": "3.8.5"
  }
 },
 "nbformat": 4,
 "nbformat_minor": 5
}
